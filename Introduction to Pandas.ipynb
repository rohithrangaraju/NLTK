{
 "cells": [
  {
   "cell_type": "markdown",
   "metadata": {},
   "source": [
    "# Pandas\n",
    "- Pandas is a popular Python data analysis tool.\n",
    "\n",
    "- It provides easy to use and highly efficient data structures.\n",
    "\n",
    "- These data structures deal with numeric or labeled data, stored in the form of tables"
   ]
  },
  {
   "cell_type": "markdown",
   "metadata": {},
   "source": [
    "# Data Structures in Pandas\n",
    "- Three fundamental data structures used in pandas are,\n",
    "\n",
    "- Series: A 1-D array.\n",
    "\n",
    "- Data Frame: A 2-D array or two or more Series joined together\n",
    "\n",
    "- Panel: A 3-D array"
   ]
  },
  {
   "cell_type": "markdown",
   "metadata": {},
   "source": [
    "# Series in Pandas\n",
    "- Series is a 1-D array, holding data values of a single variable, captured from multiple observations.\n",
    "- Few examples are:\n",
    "\n",
    "- Height of each student, belonging to a Class 'C'.\n",
    " - Amount of daily rainfall received at Station 'X', in July 2017.\n",
    "\n",
    "\n",
    "\n",
    "- Total sales of a product 'P' in every quarter of 2016."
   ]
  },
  {
   "cell_type": "markdown",
   "metadata": {},
   "source": [
    "# Data Frame in Pandas\n",
    "\n",
    "- A Data Frame is 2-D shaped and contains data of different parameters, captured from multiple observations.\n",
    "- Each observation is represented by a single row, and each parameter by a single column.\n",
    "- Each column can hold different data type.\n",
    "- Few examples are:\n",
    "\n",
    "- Height and Weight of all students, belonging to a Class 'C'.\n",
    "- Daily Rainfall received and Average Temperature of a location 'X', in the year 2017."
   ]
  },
  {
   "cell_type": "markdown",
   "metadata": {},
   "source": [
    "# Panel in Pandas\n",
    "\n",
    "- A Panel holds two or more Data Frames together as a single unit.\n",
    "- Few examples are:\n",
    "\n",
    "1) Height and Weight of all students, belonging to 3 Classes 'A', 'B', and 'C'.\n",
    "2) Daily Rainfall received and Average Temperatures of 3 locations 'X', 'Y', and 'Z' captured in the year 2017.\n"
   ]
  },
  {
   "cell_type": "code",
   "execution_count": null,
   "metadata": {},
   "outputs": [],
   "source": []
  }
 ],
 "metadata": {
  "kernelspec": {
   "display_name": "Python 3",
   "language": "python",
   "name": "python3"
  },
  "language_info": {
   "codemirror_mode": {
    "name": "ipython",
    "version": 3
   },
   "file_extension": ".py",
   "mimetype": "text/x-python",
   "name": "python",
   "nbconvert_exporter": "python",
   "pygments_lexer": "ipython3",
   "version": "3.6.5"
  }
 },
 "nbformat": 4,
 "nbformat_minor": 2
}
